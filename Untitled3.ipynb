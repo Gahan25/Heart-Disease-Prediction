{
  "nbformat": 4,
  "nbformat_minor": 0,
  "metadata": {
    "colab": {
      "provenance": [],
      "authorship_tag": "ABX9TyMpjxE1MwMkBIHSPW2P2Nwe",
      "include_colab_link": true
    },
    "kernelspec": {
      "name": "python3",
      "display_name": "Python 3"
    },
    "language_info": {
      "name": "python"
    }
  },
  "cells": [
    {
      "cell_type": "markdown",
      "metadata": {
        "id": "view-in-github",
        "colab_type": "text"
      },
      "source": [
        "<a href=\"https://colab.research.google.com/github/Gahan25/Heart-Disease-Prediction/blob/main/Untitled3.ipynb\" target=\"_parent\"><img src=\"https://colab.research.google.com/assets/colab-badge.svg\" alt=\"Open In Colab\"/></a>"
      ]
    },
    {
      "cell_type": "code",
      "execution_count": 6,
      "metadata": {
        "colab": {
          "base_uri": "https://localhost:8080/",
          "height": 551
        },
        "id": "Dmw61PRQcX0o",
        "outputId": "4367cd9c-09de-4635-b676-d8237ac1025a"
      },
      "outputs": [
        {
          "output_type": "stream",
          "name": "stdout",
          "text": [
            "Training features have 820 records and Testing features have 205 records.\n",
            "Naive Bayes Accuracy: 85.37%\n",
            "Precision:  0.8347826086956521\n",
            "Recall:  0.897196261682243\n",
            "F1-score:  0.8648648648648648\n",
            "Prediction using Naive Bayes:  [0]\n",
            "The person does not have heart disease\n"
          ]
        },
        {
          "output_type": "display_data",
          "data": {
            "text/plain": [
              "<Figure size 640x480 with 2 Axes>"
            ],
            "image/png": "[encoded data removed]"
          },
          "metadata": {}
        }
      ],
      "source": [
        "import numpy as np\n",
        "import pandas as pd\n",
        "from sklearn.naive_bayes import GaussianNB\n",
        "from sklearn.tree import DecisionTreeClassifier\n",
        "from sklearn.model_selection import train_test_split\n",
        "from sklearn.preprocessing import StandardScaler\n",
        "from sklearn.metrics import accuracy_score\n",
        "import seaborn as sns\n",
        "import warnings\n",
        "\n",
        "warnings.filterwarnings('ignore')\n",
        "\n",
        "#Load data and split into predictors and target\n",
        "data = pd.read_csv('heart.csv')\n",
        "predictors = data.drop(\"target\",axis=1)\n",
        "target = data[\"target\"]\n",
        "\n",
        "#Split data into training and testing sets\n",
        "x_train,x_test,y_train,y_test = train_test_split(predictors,target,test_size=0.20,random_state=0)\n",
        "print(\"Training features have {0} records and Testing features have {1} records.\".format(x_train.shape[0], x_test.shape[0]))\n",
        "\n",
        "def train_model(x_train, y_train, x_test, y_test, classifier,KFold, **kwargs):\n",
        "    \"\"\"\n",
        "    Fit the chosen model and print out the score.\n",
        "    \"\"\"\n",
        "    #instantiate model\n",
        "    model = classifier(**kwargs)\n",
        "\n",
        "    #train model\n",
        "    model.fit(x_train,y_train)\n",
        "\n",
        "    #check accuracy and print out the results\n",
        "    fit_accuracy = model.score(x_train, y_train)\n",
        "    test_accuracy = model.score(x_test, y_test)\n",
        "\n",
        "    print(f\"Train accuracy: {fit_accuracy:0.2%}\")\n",
        "    print(f\"Test accuracy: {test_accuracy:0.2%}\")\n",
        "\n",
        "    return model\n",
        "\n",
        "#Initialize the Naive Bayes model\n",
        "nb_model = GaussianNB()\n",
        "\n",
        "#Train the Naive Bayes model on the training data\n",
        "nb_model.fit(x_train, y_train)\n",
        "\n",
        "#Make predictions on the test data\n",
        "nb_predictions = nb_model.predict(x_test)\n",
        "\n",
        "#Calculate and print the accuracy of the Naive Bayes model\n",
        "nb_accuracy = round(accuracy_score(y_test, nb_predictions) * 100, 2)\n",
        "print(\"Naive Bayes Accuracy: \" + str(nb_accuracy) + \"%\")\n",
        "\n",
        "#Compute the confusion matrix and plot it using seaborn\n",
        "from sklearn.metrics import confusion_matrix\n",
        "import seaborn as sns\n",
        "\n",
        "matrix = confusion_matrix(y_test, nb_predictions)\n",
        "sns.heatmap(matrix, annot=True, fmt=\"d\")\n",
        "\n",
        "#Compute the precision, recall, and F1-score of the Naive Bayes model\n",
        "from sklearn.metrics import precision_score, recall_score, f1_score\n",
        "\n",
        "precision = precision_score(y_test, nb_predictions)\n",
        "recall = recall_score(y_test, nb_predictions)\n",
        "f1score = f1_score(y_test, nb_predictions)\n",
        "\n",
        "print(\"Precision: \", precision)\n",
        "print(\"Recall: \", recall)\n",
        "print(\"F1-score: \", f1score)\n",
        "\n",
        "#Make a prediction using the Naive Bayes model on a single input sample\n",
        "inputs = [[58,1,0,114,318,0,2,140,0,4.4,0,3,1]]\n",
        "\n",
        "nb_prediction_input = nb_model.predict(inputs)\n",
        "print(\"Prediction using Naive Bayes: \", nb_prediction_input)\n",
        "\n",
        "if nb_prediction_input[0] == 0:\n",
        "  print(\"The person does not have heart disease\")\n",
        "else:\n",
        "  print(\"The person has heart disease\")\n"
      ]
    },
    {
      "cell_type": "code",
      "source": [
        "dt = DecisionTreeClassifier(max_depth=3, random_state=0)\n",
        "\n",
        "dt.fit(x_train, y_train)\n",
        "\n",
        "y_pred_dt = dt.predict(x_test)\n",
        "print(y_pred_dt)\n",
        "\n",
        "score_dt = round(accuracy_score(y_pred_dt,y_test)*100,2)\n",
        "\n",
        "print(\"The accuracy score achieved using Decision Tree is: \"+str(score_dt)+\" %\")\n",
        "\n",
        "from sklearn.tree import DecisionTreeClassifier\n",
        "tree1 = DecisionTreeClassifier(random_state=0)\n",
        "tree1.fit(x_train, y_train)\n",
        "print(\"Accuracy on training set: {:.3f}\".format(tree1.score(x_train, y_train)))\n",
        "print(\"Accuracy on test set: {:.3f}\".format(tree1.score(x_test, y_test)))\n",
        "\n",
        "#Confusion Matrix\n",
        "from sklearn.metrics import confusion_matrix\n",
        "matrix= confusion_matrix(y_test, y_pred_dt)\n",
        "sns.heatmap(matrix,annot = True, fmt = \"d\")\n",
        "\n",
        "#precision score\n",
        "from sklearn.metrics import precision_score\n",
        "precision = precision_score(y_test, y_pred_dt)\n",
        "print(\"Precision: \",precision)\n",
        "\n",
        "#recall\n",
        "from sklearn.metrics import recall_score\n",
        "recall = recall_score(y_test, y_pred_dt)\n",
        "print(\"Recall is: \",recall)\n",
        "\n",
        "#f score\n",
        "score = (2*precision*recall)/(precision+recall)\n",
        "print(\"f_score is: \",score)\n",
        "\n",
        "\n",
        "# giving inputs\n",
        "inputs=[[58,1,0,114,318,0,2,140,0,4.4,0,3,1]]\n",
        "dt_prediction_input = dt.predict(inputs)\n",
        "print(\"prediction using decission tree:\", dt_prediction_input)\n",
        "if dt_prediction_input == 0:\n",
        "  print('The person does not have heart disease')\n",
        "else:\n",
        "  print('The person has heart disease')"
      ],
      "metadata": {
        "colab": {
          "base_uri": "https://localhost:8080/",
          "height": 673
        },
        "id": "fKPI2Z1mcnXR",
        "outputId": "eed719b3-4f8d-49e3-b404-343cacd3a1ed"
      },
      "execution_count": 7,
      "outputs": [
        {
          "output_type": "stream",
          "name": "stdout",
          "text": [
            "[1 1 0 0 0 0 0 0 0 0 0 0 0 1 1 1 1 0 1 0 1 1 1 1 1 1 1 1 1 1 1 0 0 1 0 0 1\n",
            " 0 1 1 1 1 1 1 1 1 1 1 0 0 0 0 0 0 0 0 0 1 0 1 0 1 1 0 0 0 0 1 1 1 0 1 1 0\n",
            " 0 0 1 0 0 0 0 0 1 1 1 0 1 0 1 0 0 0 1 0 1 0 0 0 1 1 0 1 1 0 0 1 0 1 1 1 1\n",
            " 1 0 0 1 0 1 0 0 1 0 1 1 0 0 1 1 1 1 0 0 0 1 1 1 0 0 1 0 1 0 1 1 0 1 1 1 1\n",
            " 0 0 1 0 0 0 0 0 1 1 0 0 0 1 1 1 0 1 1 1 1 1 1 1 1 0 1 1 0 1 1 0 0 1 0 0 0\n",
            " 0 1 0 1 0 1 1 0 1 0 1 1 1 1 0 1 1 1 0 1]\n",
            "The accuracy score achieved using Decision Tree is: 84.39 %\n",
            "Accuracy on training set: 1.000\n",
            "Accuracy on test set: 1.000\n",
            "Precision:  0.8440366972477065\n",
            "Recall is:  0.8598130841121495\n",
            "f_score is:  0.8518518518518519\n",
            "prediction using decission tree: [0]\n",
            "The person does not have heart disease\n"
          ]
        },
        {
          "output_type": "display_data",
          "data": {
            "text/plain": [
              "<Figure size 640x480 with 2 Axes>"
            ],
            "image/png": "[encoded data removed]"
          },
          "metadata": {}
        }
      ]
    }
  ]
}